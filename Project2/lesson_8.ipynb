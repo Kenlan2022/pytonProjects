{
 "cells": [
  {
   "cell_type": "code",
   "execution_count": 9,
   "metadata": {},
   "outputs": [
    {
     "name": "stdout",
     "output_type": "stream",
     "text": [
      "robert\n",
      "戰士\n",
      "robert\n",
      "魔法師\n"
     ]
    }
   ],
   "source": [
    "\n",
    "class Person():\n",
    "    def __init__(self, name):\n",
    "        self.name = name\n",
    "\n",
    "\n",
    "class Magician(Person):\n",
    "    def __init__(self, name):\n",
    "        super().__init__(name)\n",
    "        self.__rol =\"魔法師\"\n",
    "    @property\n",
    "    def rol(self):\n",
    "        return self.__rol\n",
    "\n",
    "\n",
    "class Fighter(Person):\n",
    "    def __init__(self, name):\n",
    "        super().__init__(name)\n",
    "        self.__rol = \"戰士\" #__ 是private的屬性只能在class內使用\n",
    "    @property               #註冊property\n",
    "    def rol(self):\n",
    "        return self.__rol\n",
    "\n",
    "\n",
    "fighter1 = Fighter(\"robert\")\n",
    "print(fighter1.name)\n",
    "print(fighter1.rol)\n",
    "#fighter.rol = \"我不是戰士\"\n",
    "Magician1 = Magician(\"robert\")\n",
    "print(Magician1.name)\n",
    "print(Magician1.rol)\n",
    "        "
   ]
  }
 ],
 "metadata": {
  "kernelspec": {
   "display_name": "Python 3.10.8 ('venv03')",
   "language": "python",
   "name": "python3"
  },
  "language_info": {
   "codemirror_mode": {
    "name": "ipython",
    "version": 3
   },
   "file_extension": ".py",
   "mimetype": "text/x-python",
   "name": "python",
   "nbconvert_exporter": "python",
   "pygments_lexer": "ipython3",
   "version": "3.10.8"
  },
  "orig_nbformat": 4,
  "vscode": {
   "interpreter": {
    "hash": "31df48a463907e4a38acd68b00b137978bdeb52ef3037ffd5c288af50591e11e"
   }
  }
 },
 "nbformat": 4,
 "nbformat_minor": 2
}
