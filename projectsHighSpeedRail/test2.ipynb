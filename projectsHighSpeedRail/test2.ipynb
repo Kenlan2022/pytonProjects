{
 "cells": [
  {
   "cell_type": "code",
   "execution_count": 2,
   "metadata": {},
   "outputs": [
    {
     "name": "stdout",
     "output_type": "stream",
     "text": [
      "<class 'dict'>\n"
     ]
    }
   ],
   "source": [
    "import tkinter as tk\n",
    "from tkinter import ttk\n",
    "from tkinter.messagebox import showinfo\n",
    "\n",
    "\n",
    "discount = {1: \"早鳥\", 2: \"校外教學\", 3: \"大學生\", 4: \"20人團體\"}\n",
    "stations = [\"南港\", \"台北\",  \"板橋\",  \"桃園\",  \"新竹\", \"苗栗\",\n",
    "             \"台中\",  \"彰化\",  \"雲林\", \"嘉義\",  \"台南\",  \"左營\"]\n",
    "\n",
    "\n",
    "class Window(tk.Tk):\n",
    "    def __init__(self):\n",
    "        super().__init__()\n",
    "        tk.Label(self, text=\"高鐵班次查詢\", font=(\n",
    "            'Arial', 20)).pack(padx=30, pady=30)  # 標題不能改\n",
    "        \n",
    "\n",
    "        # 建立存放按鈕的容器\n",
    "        button_frame = tk.Frame(self)\n",
    "        button_frame.pack(padx=50, pady=(0, 30))\n",
    "\n",
    "\n",
    "class stationListBox(tk.Tk):\n",
    "    def __init__(self,station):\n",
    "        super().__init__()\n",
    "        self.list = tk.Listbox(Window, width=15)\n",
    "        self.list.pack()\n",
    "        for self.station in stations:\n",
    "            list.insert(END,self.staion)\n",
    "\n",
    "\n",
    "class checkBox(tk.Tk):\n",
    "    def __init__(self, discount_type):\n",
    "        super().__init__()\n",
    "        self.checkbotton = tk.Checkbutton(\n",
    "            Window, text=f\"{discount_type}\", variable=f\"{discount}\", onvalue=1, offvalue=0, command=checkBox.get()).pack()\n",
    "\n",
    "    def display_input():\n",
    "        print(checkBox.get())\n",
    "\n",
    "\n",
    "print(type(stations))\n",
    "\n",
    "window = Window()\n",
    "window.title(\"各縣市4天天氣預測\")\n",
    "window.mainloop()\n",
    "list1 = stationListBox(staion=stations).pack()\n"
   ]
  }
 ],
 "metadata": {
  "kernelspec": {
   "display_name": "Scrawler",
   "language": "python",
   "name": "python3"
  },
  "language_info": {
   "codemirror_mode": {
    "name": "ipython",
    "version": 3
   },
   "file_extension": ".py",
   "mimetype": "text/x-python",
   "name": "python",
   "nbconvert_exporter": "python",
   "pygments_lexer": "ipython3",
   "version": "3.10.8"
  },
  "orig_nbformat": 4,
  "vscode": {
   "interpreter": {
    "hash": "9d0c342c9a0e11a9e1fff5522bdda48dda506d22b7202f4dd3239f28098a309f"
   }
  }
 },
 "nbformat": 4,
 "nbformat_minor": 2
}
