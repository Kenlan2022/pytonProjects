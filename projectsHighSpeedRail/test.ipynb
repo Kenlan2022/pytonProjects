{
 "cells": [
  {
   "cell_type": "code",
   "execution_count": 1,
   "metadata": {},
   "outputs": [
    {
     "name": "stdout",
     "output_type": "stream",
     "text": [
      "NanGang\n",
      "TaiPei\n",
      "BanQiao\n",
      "TaoYuan\n",
      "XinZhu\n",
      "MiaoLi\n",
      "TaiZhong\n",
      "ZhangHua\n",
      "YunLin\n",
      "JiaYi\n",
      "TaiNan\n",
      "ZuoYing\n"
     ]
    }
   ],
   "source": [
    "import os\n",
    "from selenium import webdriver\n",
    "from selenium.webdriver.chrome.service import Service as ChromeService\n",
    "from webdriver_manager.chrome import ChromeDriverManager\n",
    "from selenium.webdriver.common.by import By\n",
    "from selenium.webdriver.support.select import Select\n",
    "from selenium.webdriver.support.ui import WebDriverWait\n",
    "from selenium.webdriver.support import expected_conditions as EC\n",
    "import time\n",
    "from datetime import datetime\n",
    "\n",
    "driver = webdriver.Chrome(service=ChromeService(\n",
    "    ChromeDriverManager().install()))\n",
    "driver.get(\"https://www.thsrc.com.tw\")\n",
    "driver.implicitly_wait(0.5)\n",
    "try:\n",
    "    agree_btn = driver.find_element(by=By.CSS_SELECTOR, value=\".swal2-confirm\")\n",
    "    agree_btn.click()\n",
    "except Exception:\n",
    "    print(\"同意出錯\")\n",
    "\n",
    "\n",
    "location1 = driver.find_element(by=By.ID, value=\"select_location01\")\n",
    "selected_location1 = Select(location1)\n",
    "option_list = selected_location1.options\n",
    "for item in option_list:\n",
    "    print(item.get_attribute(\"value\"))\n",
    "\n"
   ]
  },
  {
   "cell_type": "code",
   "execution_count": null,
   "metadata": {},
   "outputs": [],
   "source": []
  }
 ],
 "metadata": {
  "kernelspec": {
   "display_name": "Scrawler",
   "language": "python",
   "name": "python3"
  },
  "language_info": {
   "codemirror_mode": {
    "name": "ipython",
    "version": 3
   },
   "file_extension": ".py",
   "mimetype": "text/x-python",
   "name": "python",
   "nbconvert_exporter": "python",
   "pygments_lexer": "ipython3",
   "version": "3.10.8 (tags/v3.10.8:aaaf517, Oct 11 2022, 16:50:30) [MSC v.1933 64 bit (AMD64)]"
  },
  "orig_nbformat": 4,
  "vscode": {
   "interpreter": {
    "hash": "9d0c342c9a0e11a9e1fff5522bdda48dda506d22b7202f4dd3239f28098a309f"
   }
  }
 },
 "nbformat": 4,
 "nbformat_minor": 2
}
