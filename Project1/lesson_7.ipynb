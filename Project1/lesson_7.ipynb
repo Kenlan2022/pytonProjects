{
 "cells": [
  {
   "cell_type": "code",
   "execution_count": 3,
   "metadata": {},
   "outputs": [],
   "source": [
    "class Person():\n",
    "    def __init__(self,name,age):\n",
    "        #attribute\n",
    "        self.name = name\n",
    "        self.age = age\n",
    "\n",
    "        #實體的method\n",
    "    def shout(self):\n",
    "        print(f\"我的名字叫{self.name}\")\n",
    "        print(f\"我的age是{self.age}\")"
   ]
  },
  {
   "cell_type": "code",
   "execution_count": 6,
   "metadata": {},
   "outputs": [
    {
     "name": "stdout",
     "output_type": "stream",
     "text": [
      "我的名字叫robert\n",
      "我的age是35\n"
     ]
    }
   ],
   "source": [
    "p1 = Person(\"robert\",35)\n",
    "p1.shout()"
   ]
  },
  {
   "cell_type": "code",
   "execution_count": 90,
   "metadata": {},
   "outputs": [
    {
     "name": "stdout",
     "output_type": "stream",
     "text": [
      "我的名字叫jenny\n",
      "我的age是25\n"
     ]
    }
   ],
   "source": [
    "p2 = Person(\"jenny\",25)\n",
    "p2.shout()"
   ]
  },
  {
   "cell_type": "code",
   "execution_count": 109,
   "metadata": {},
   "outputs": [],
   "source": [
    "#繼承Person\n",
    "class Student(Person):\n",
    "    def __init__(self,name,age,w=60,h=170):\n",
    "        super().__init__(name, name)\n",
    "        self.weight = w\n",
    "        self.height = h\n",
    "    #overwrite\n",
    "    def shout(self):\n",
    "        super().shout()\n",
    "        print(f\"我的身高:{self.height}\")\n",
    "        print(f\"我的體重:{self.weight}\")"
   ]
  },
  {
   "cell_type": "code",
   "execution_count": 110,
   "metadata": {},
   "outputs": [
    {
     "name": "stdout",
     "output_type": "stream",
     "text": [
      "我的名字叫robert\n",
      "我的age是robert\n",
      "我的身高:183\n",
      "我的體重:76\n"
     ]
    }
   ],
   "source": [
    "stu1 = Student(\"robert\",35,w=76,h=183)\n",
    "stu1.shout()"
   ]
  },
  {
   "cell_type": "code",
   "execution_count": 111,
   "metadata": {},
   "outputs": [
    {
     "name": "stdout",
     "output_type": "stream",
     "text": [
      "我的名字叫ken\n",
      "我的age是ken\n",
      "我的身高:170\n",
      "我的體重:60\n"
     ]
    }
   ],
   "source": [
    "stu2 = Student(\"ken\", \"27\")\n",
    "stu2.shout()"
   ]
  }
 ],
 "metadata": {
  "kernelspec": {
   "display_name": "Python 3.10.8 64-bit",
   "language": "python",
   "name": "python3"
  },
  "language_info": {
   "codemirror_mode": {
    "name": "ipython",
    "version": 3
   },
   "file_extension": ".py",
   "mimetype": "text/x-python",
   "name": "python",
   "nbconvert_exporter": "python",
   "pygments_lexer": "ipython3",
   "version": "3.10.8"
  },
  "orig_nbformat": 4,
  "vscode": {
   "interpreter": {
    "hash": "8bf05f147498495bfb6e9619c745162c55b8ddd4c770a7cd652b90a4ecfec608"
   }
  }
 },
 "nbformat": 4,
 "nbformat_minor": 2
}
