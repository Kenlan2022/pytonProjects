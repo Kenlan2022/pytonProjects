{
 "cells": [
  {
   "cell_type": "code",
   "execution_count": 2,
   "metadata": {},
   "outputs": [
    {
     "ename": "ModuleNotFoundError",
     "evalue": "No module named 'requests'",
     "output_type": "error",
     "traceback": [
      "\u001b[1;31m---------------------------------------------------------------------------\u001b[0m",
      "\u001b[1;31mModuleNotFoundError\u001b[0m                       Traceback (most recent call last)",
      "Cell \u001b[1;32mIn [2], line 2\u001b[0m\n\u001b[0;32m      1\u001b[0m \u001b[39m#REST API\u001b[39;00m\n\u001b[1;32m----> 2\u001b[0m \u001b[39mimport\u001b[39;00m \u001b[39mrequests\u001b[39;00m\n\u001b[0;32m      3\u001b[0m \u001b[39mimport\u001b[39;00m \u001b[39mcsv\u001b[39;00m\n\u001b[0;32m      4\u001b[0m \u001b[39mimport\u001b[39;00m \u001b[39mio\u001b[39;00m\n",
      "\u001b[1;31mModuleNotFoundError\u001b[0m: No module named 'requests'"
     ]
    }
   ],
   "source": [
    "#REST API\n",
    "import requests\n",
    "import csv\n",
    "import io\n",
    "url = 'http://opendataap2.e-land.gov.tw/./resource/files/2021-03-11/132147d68273721d057a4e0247d83995.csv'\n",
    "r = requests.get(url=url)\n",
    "print(type(r))\n",
    "if  r.ok:\n",
    "    r.encoding = 'utf-8'\n",
    "    CSV_txt = r.text\n",
    "\n",
    "    file = io.StringIO(CSV_txt)\n",
    "    CSV_reader = csv.reader(file)\n",
    "    CSV_list = list(CSV_reader)\n",
    "\n",
    "for row in CSV_list:\n",
    "    print(row[0])\n"
   ]
  },
  {
   "cell_type": "code",
   "execution_count": null,
   "metadata": {},
   "outputs": [],
   "source": []
  }
 ],
 "metadata": {
  "kernelspec": {
   "display_name": "Python 3.10.8 64-bit",
   "language": "python",
   "name": "python3"
  },
  "language_info": {
   "codemirror_mode": {
    "name": "ipython",
    "version": 3
   },
   "file_extension": ".py",
   "mimetype": "text/x-python",
   "name": "python",
   "nbconvert_exporter": "python",
   "pygments_lexer": "ipython3",
   "version": "3.10.8"
  },
  "orig_nbformat": 4,
  "vscode": {
   "interpreter": {
    "hash": "8bf05f147498495bfb6e9619c745162c55b8ddd4c770a7cd652b90a4ecfec608"
   }
  }
 },
 "nbformat": 4,
 "nbformat_minor": 2
}
