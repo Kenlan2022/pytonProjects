{
 "cells": [
  {
   "cell_type": "code",
   "execution_count": 17,
   "metadata": {},
   "outputs": [
    {
     "ename": "SyntaxError",
     "evalue": "'return' outside function (2019891689.py, line 10)",
     "output_type": "error",
     "traceback": [
      "\u001b[1;36m  Cell \u001b[1;32mIn [17], line 10\u001b[1;36m\u001b[0m\n\u001b[1;33m    return response.jason()\u001b[0m\n\u001b[1;37m    ^\u001b[0m\n\u001b[1;31mSyntaxError\u001b[0m\u001b[1;31m:\u001b[0m 'return' outside function\n"
     ]
    }
   ],
   "source": [
    "import requests\n",
    "api_key = \"1b9553d7078c05ee58c7baa6a6930fe6\"\n",
    "cityName = \"Taipei\" \n",
    "url = f\"https://api.openweathermap.org/data/2.5/forecast?q={cityName},tw&APPID={api_key}&lang=zh_tw&units=metric\"\n",
    "\n",
    "response = requests.get(url=url)\n",
    "\n",
    "if response.ok:\n",
    "    print(\"下載成功\")\n",
    "    print(response.text)\n",
    "else:\n",
    "    print(\"下載失敗\")"
   ]
  }
 ],
 "metadata": {
  "kernelspec": {
   "display_name": "Python 3.10.8 ('venv04')",
   "language": "python",
   "name": "python3"
  },
  "language_info": {
   "codemirror_mode": {
    "name": "ipython",
    "version": 3
   },
   "file_extension": ".py",
   "mimetype": "text/x-python",
   "name": "python",
   "nbconvert_exporter": "python",
   "pygments_lexer": "ipython3",
   "version": "3.10.8"
  },
  "orig_nbformat": 4,
  "vscode": {
   "interpreter": {
    "hash": "d0e2b85bbcbfab84188ecdbf17fac3eaa68d544fd3449174387d2b8bfb78450a"
   }
  }
 },
 "nbformat": 4,
 "nbformat_minor": 2
}
