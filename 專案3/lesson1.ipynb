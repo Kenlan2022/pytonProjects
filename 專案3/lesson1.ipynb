{
 "cells": [
  {
   "cell_type": "code",
   "execution_count": null,
   "metadata": {},
   "outputs": [],
   "source": []
  }
 ],
 "metadata": {
  "kernelspec": {
   "display_name": "Python 3.10.8 ('venv04')",
   "language": "python",
   "name": "python3"
  },
  "language_info": {
   "name": "python",
   "version": "3.10.8"
  },
  "orig_nbformat": 4,
  "vscode": {
   "interpreter": {
    "hash": "d0e2b85bbcbfab84188ecdbf17fac3eaa68d544fd3449174387d2b8bfb78450a"
   }
  }
 },
 "nbformat": 4,
 "nbformat_minor": 2
}
