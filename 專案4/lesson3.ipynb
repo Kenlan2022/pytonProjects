{
 "cells": [
  {
   "cell_type": "code",
   "execution_count": 5,
   "metadata": {},
   "outputs": [
    {
     "data": {
      "text/plain": [
       "<Response [200]>"
      ]
     },
     "execution_count": 5,
     "metadata": {},
     "output_type": "execute_result"
    }
   ],
   "source": [
    "import requests\n",
    "url = \"https://www.ytower.com.tw/recipe/iframe-recipe.asp?seq=A03-1237\"\n",
    "response = requests.get(url)\n",
    "response.encoding = \"big5\"\n",
    "if response.ok:\n",
    "    html_code = response.text\n",
    "else:\n",
    "    print(\"下載失敗\")\n",
    "\n",
    "response "
   ]
  },
  {
   "cell_type": "code",
   "execution_count": 6,
   "metadata": {},
   "outputs": [
    {
     "data": {
      "text/plain": [
       "'宮保雞丁(10)'"
      ]
     },
     "execution_count": 6,
     "metadata": {},
     "output_type": "execute_result"
    }
   ],
   "source": [
    "from bs4 import BeautifulSoup\n",
    "soup = BeautifulSoup(html_code,'html.parser')\n",
    "recipe_groups = soup.find(name=\"div\", id=\"recipe_name\")\n",
    "recipe_groups.get_text()\n"
   ]
  },
  {
   "cell_type": "code",
   "execution_count": 16,
   "metadata": {},
   "outputs": [
    {
     "name": "stdout",
     "output_type": "stream",
     "text": [
      "['', '【材\\u3000料】', '', '去骨雞胸肉\\n350公克', '', '蔥段\\n15公克', '', '薑末\\n10公克', '', '乾辣椒段\\n15公克', '', '花椒粒\\n5公克', '', '蒜味花生\\n80公克', '']\n",
      "['', '【調 味 料】', '', '水\\n100㏄\\n\\n\\n\\n\\n糖\\n1小匙\\n\\n\\n\\n\\n醬油\\n2大匙\\n\\n\\n\\n\\n雞粉\\n少許\\n\\n\\n\\n\\n米酒\\n1/2大匙\\n\\n\\n\\n\\n胡椒粉\\n少許']\n",
      "['', '【醃\\u3000 料】', '', '蛋白\\n\\n1顆', '', '米酒\\n\\n1大匙', '', '太白粉\\n\\n少許', '']\n"
     ]
    }
   ],
   "source": [
    "ingredients = soup.find_all(name=\"ul\", class_=\"ingredient\")\n",
    "for ingredient in ingredients:\n",
    "    ingredient_list = list()\n",
    "    for li in ingredient:\n",
    "        ingredient_list.append(li.get_text().strip())\n",
    "    print(ingredient_list)"
   ]
  }
 ],
 "metadata": {
  "kernelspec": {
   "display_name": "Python 3.10.8 ('venv07')",
   "language": "python",
   "name": "python3"
  },
  "language_info": {
   "codemirror_mode": {
    "name": "ipython",
    "version": 3
   },
   "file_extension": ".py",
   "mimetype": "text/x-python",
   "name": "python",
   "nbconvert_exporter": "python",
   "pygments_lexer": "ipython3",
   "version": "3.10.8"
  },
  "orig_nbformat": 4,
  "vscode": {
   "interpreter": {
    "hash": "fad7f09984c525b5b3b609a96fc7cbf7327aac970d06d25f6216885e2764c13e"
   }
  }
 },
 "nbformat": 4,
 "nbformat_minor": 2
}
