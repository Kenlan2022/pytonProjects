{
 "cells": [
  {
   "cell_type": "code",
   "execution_count": 4,
   "metadata": {},
   "outputs": [],
   "source": [
    "#自訂義的function\n",
    "#傳出dictionary\n",
    "def menu(wine, entree, dessert):\n",
    "    return {\"Wine\": wine, \"Entree:\": entree, \"Dessert\": dessert}\n"
   ]
  },
  {
   "cell_type": "code",
   "execution_count": 6,
   "metadata": {},
   "outputs": [
    {
     "data": {
      "text/plain": [
       "{'Wine': '紅酒', 'Entree:': '雞排', 'Dessert': '冰淇淋'}"
      ]
     },
     "execution_count": 6,
     "metadata": {},
     "output_type": "execute_result"
    }
   ],
   "source": [
    "#依據參數的位置順序呼叫\n",
    "#引數位置的呼叫\n",
    "menu(\"白酒\",\"主餐\",\"甜點\")\n",
    "\n",
    "menu(\"紅酒\",\"雞排\",\"冰淇淋\")"
   ]
  },
  {
   "cell_type": "code",
   "execution_count": 9,
   "metadata": {},
   "outputs": [
    {
     "data": {
      "text/plain": [
       "{'Wine': '紅酒', 'Entree:': '雞排', 'Dessert': '冰淇淋'}"
      ]
     },
     "execution_count": 9,
     "metadata": {},
     "output_type": "execute_result"
    }
   ],
   "source": [
    "#引數名稱的呼叫\n",
    "menu(wine=\"紅酒\", dessert=\"冰淇淋\", entree=\"雞排\")\n"
   ]
  },
  {
   "cell_type": "code",
   "execution_count": 13,
   "metadata": {},
   "outputs": [
    {
     "data": {
      "text/plain": [
       "{'Wine': '白酒', 'Entree:': '雞排', 'Dessert': '冰淇淋'}"
      ]
     },
     "execution_count": 13,
     "metadata": {},
     "output_type": "execute_result"
    }
   ],
   "source": [
    "#混和呼叫\n",
    "#前面位置呼叫，後面名稱呼叫\n",
    "menu(\"白酒\", dessert= \"冰淇淋\", entree=\"雞排\")"
   ]
  },
  {
   "cell_type": "code",
   "execution_count": null,
   "metadata": {},
   "outputs": [],
   "source": []
  }
 ],
 "metadata": {
  "kernelspec": {
   "display_name": "Python 3.10.7 ('venv01')",
   "language": "python",
   "name": "python3"
  },
  "language_info": {
   "codemirror_mode": {
    "name": "ipython",
    "version": 3
   },
   "file_extension": ".py",
   "mimetype": "text/x-python",
   "name": "python",
   "nbconvert_exporter": "python",
   "pygments_lexer": "ipython3",
   "version": "3.10.7"
  },
  "orig_nbformat": 4,
  "vscode": {
   "interpreter": {
    "hash": "70d584b9506959365acb928f1f96757e42f438193f67669a78d5d2fc9aef7e41"
   }
  }
 },
 "nbformat": 4,
 "nbformat_minor": 2
}
